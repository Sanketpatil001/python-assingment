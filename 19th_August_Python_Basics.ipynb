{
 "cells": [
  {
   "cell_type": "markdown",
   "id": "4154cd20",
   "metadata": {},
   "source": [
    "# 1.declare two variables,\"x\" and \"y\", and assign them intiger values. swap the values of these variables without any temporary varibles.\n",
    "\n"
   ]
  },
  {
   "cell_type": "code",
   "execution_count": 2,
   "id": "0e2c26c6",
   "metadata": {},
   "outputs": [
    {
     "name": "stdout",
     "output_type": "stream",
     "text": [
      "values before swapping x and y:\n",
      "x= 100\n",
      "y= 200\n",
      "values after values x and y:\n",
      "x= 200\n",
      "y= 100\n"
     ]
    }
   ],
   "source": [
    "print(\"values before swapping x and y:\")\n",
    "x=100\n",
    "y=200\n",
    "print(\"x=\",x)\n",
    "print(\"y=\",y)\n",
    "print(\"values after values x and y:\")\n",
    "temp=100\n",
    "x=200\n",
    "y=temp\n",
    "print(\"x=\",x)\n",
    "print(\"y=\",y)\n"
   ]
  },
  {
   "cell_type": "markdown",
   "id": "8649bb3b",
   "metadata": {},
   "source": [
    "# 2.create pythone program that calculates the area of rectangle.take the length and width of as inputs from the the user and store them in a variables. calculate and display the area. \n"
   ]
  },
  {
   "cell_type": "code",
   "execution_count": 1,
   "id": "2bf30037",
   "metadata": {},
   "outputs": [
    {
     "name": "stdout",
     "output_type": "stream",
     "text": [
      "calculate the area of rectangle\n",
      "entrer the first number:10\n",
      "enter the second number:20\n",
      "area= 200\n"
     ]
    }
   ],
   "source": [
    "print(\"calculate the area of rectangle\")\n",
    "length=int(input(\"entrer the first number:\"))\n",
    "width=int(input(\"enter the second number:\"))\n",
    "area=length*width\n",
    "print(\"area=\",area)\n"
   ]
  },
  {
   "cell_type": "raw",
   "id": "aae1877e",
   "metadata": {},
   "source": [
    "# 3.write a python program that convert tempreture from celcius to fahrenheit. take a tempreture in celcius as inputs, store in a variable,convert it to fahrenheit,and display the result.\n"
   ]
  },
  {
   "cell_type": "code",
   "execution_count": 7,
   "id": "0cac152b",
   "metadata": {},
   "outputs": [
    {
     "name": "stdout",
     "output_type": "stream",
     "text": [
      "enter tempreture in celcius:28\n",
      "\n",
      "tempreture in fahrenheit : 82.4\n"
     ]
    }
   ],
   "source": [
    "#the convert temptrture from celcius to fahrenheit.\n",
    "celsius=float(input(\"enter tempreture in celcius:\"))\n",
    "# conversion formula for celcius to fahrenheit: fahrenheit =(celcius * 9/5)+32\n",
    "fahrenheit = (celsius * 9/5) + 32\n",
    "print('\\ntempreture in fahrenheit :',fahrenheit)\n",
    "\n",
    "\n",
    "\n",
    "\n",
    "\n",
    "\n"
   ]
  },
  {
   "cell_type": "markdown",
   "id": "00920dd1",
   "metadata": {},
   "source": [
    "#     TOPIC : String Based Question\n",
    "        "
   ]
  },
  {
   "cell_type": "markdown",
   "id": "e5058498",
   "metadata": {},
   "source": [
    "# 1.Write a python program that takes a string as a input and prints the length of string.\n",
    "\n"
   ]
  },
  {
   "cell_type": "code",
   "execution_count": 8,
   "id": "769c8e10",
   "metadata": {},
   "outputs": [
    {
     "name": "stdout",
     "output_type": "stream",
     "text": [
      "Enter the string: PWSKILLS\n",
      "Length of the string: 8\n"
     ]
    }
   ],
   "source": [
    "#Calculate the length of the string.\n",
    "string=input(\"Enter the string: \")\n",
    "string_length = len(string)\n",
    "print(\"Length of the string:\",string_length)\n",
    "\n"
   ]
  },
  {
   "cell_type": "markdown",
   "id": "4d1941d5",
   "metadata": {},
   "source": [
    "# 2.Create a program that takes a sentence from the user and counts the number of vowels (a,e,i,o,u) in the string.\n"
   ]
  },
  {
   "cell_type": "code",
   "execution_count": 14,
   "id": "d3cfc045",
   "metadata": {},
   "outputs": [
    {
     "name": "stdout",
     "output_type": "stream",
     "text": [
      "enter the string:pwskills\n",
      "cont of vowels in the given string: 1\n"
     ]
    }
   ],
   "source": [
    "#Counts number of vovels\n",
    "str1 = input(\"enter the string:\")\n",
    "str1_lowers = str1.lower()\n",
    "vowles = \"aeiou\"\n",
    "count=0\n",
    "for i in str1_lowers:\n",
    "    if i in vowles:\n",
    "            count=count+1\n",
    "            \n",
    "print(\"cont of vowels in the given string:\",count)\n",
    "\n",
    "\n",
    "    "
   ]
  },
  {
   "cell_type": "markdown",
   "id": "03697f6f",
   "metadata": {},
   "source": [
    "# 3.Given a string ,reverse the order of characters using string slicing and print the reversed string.\n"
   ]
  },
  {
   "cell_type": "code",
   "execution_count": 2,
   "id": "dc7bdcaa",
   "metadata": {},
   "outputs": [
    {
     "name": "stdout",
     "output_type": "stream",
     "text": [
      " \n",
      ":\n",
      "s\n",
      "l\n",
      "l\n",
      "i\n",
      "k\n",
      "s\n",
      "w\n",
      "p\n"
     ]
    }
   ],
   "source": [
    "#Reversed string\n",
    "str=(\"pwskills: \")\n",
    "x=len(str)\n",
    "for i in range(x-1,-1,-1):\n",
    "    print(str[i])\n",
    "    "
   ]
  },
  {
   "cell_type": "markdown",
   "id": "28a40491",
   "metadata": {},
   "source": [
    "# 4.write a program that takes a string as input and checks if it is a palindrome(reads the same forwords and backwords.)\n"
   ]
  },
  {
   "cell_type": "code",
   "execution_count": 2,
   "id": "b83f28c7",
   "metadata": {},
   "outputs": [
    {
     "name": "stdout",
     "output_type": "stream",
     "text": [
      "enter string:pwskills\n",
      "string is palindrome\n"
     ]
    }
   ],
   "source": [
    "# Program to check a string is palindrome\n",
    "x=input(\"enter string:\")\n",
    "y=x[-1::-1]\n",
    "if(\"x==y\"):\n",
    "    print(\"string is palindrome\")\n",
    "else:\n",
    "    print(\"string id not palindrome\")\n",
    "        "
   ]
  },
  {
   "cell_type": "markdown",
   "id": "10321674",
   "metadata": {},
   "source": [
    "# 5.create a pythone program that takes a string as input and removes all the spaces from it print the modified string without spaces from it. print the modified string without spaces.\n"
   ]
  },
  {
   "cell_type": "code",
   "execution_count": 4,
   "id": "a9d9b383",
   "metadata": {},
   "outputs": [
    {
     "name": "stdout",
     "output_type": "stream",
     "text": [
      "Enter a string:pwskills\n",
      "modified string without spaces: pwskills\n"
     ]
    }
   ],
   "source": [
    " def remove_spaces(input_string):\n",
    "        modified_string = input_string.replace(\" \",\"\")\n",
    "        return modified_string\n",
    "    \n",
    "user_input = input(\"Enter a string:\")\n",
    "modified_string = remove_spaces(user_input)\n",
    "print(\"modified string without spaces:\",modified_string)\n",
    "\n"
   ]
  },
  {
   "cell_type": "code",
   "execution_count": null,
   "id": "8e0d5cb5",
   "metadata": {},
   "outputs": [],
   "source": []
  }
 ],
 "metadata": {
  "kernelspec": {
   "display_name": "Python 3 (ipykernel)",
   "language": "python",
   "name": "python3"
  },
  "language_info": {
   "codemirror_mode": {
    "name": "ipython",
    "version": 3
   },
   "file_extension": ".py",
   "mimetype": "text/x-python",
   "name": "python",
   "nbconvert_exporter": "python",
   "pygments_lexer": "ipython3",
   "version": "3.11.4"
  }
 },
 "nbformat": 4,
 "nbformat_minor": 5
}
